{
  "nbformat": 4,
  "nbformat_minor": 0,
  "metadata": {
    "colab": {
      "provenance": [],
      "include_colab_link": true
    },
    "kernelspec": {
      "name": "python3",
      "display_name": "Python 3"
    },
    "language_info": {
      "name": "python"
    }
  },
  "cells": [
    {
      "cell_type": "markdown",
      "metadata": {
        "id": "view-in-github",
        "colab_type": "text"
      },
      "source": [
        "<a href=\"https://colab.research.google.com/github/Vaishnavi-eng137/BidonHomes/blob/main/session_1_tasks.ipynb\" target=\"_parent\"><img src=\"https://colab.research.google.com/assets/colab-badge.svg\" alt=\"Open In Colab\"/></a>"
      ]
    },
    {
      "cell_type": "markdown",
      "source": [
        "# Task : Session 1\n",
        "Solve these questions own your own and try to test yourself what you have learned in the session.\n",
        "\n",
        "Happy Learning!"
      ],
      "metadata": {
        "id": "A05OG15VqOPF"
      }
    },
    {
      "cell_type": "markdown",
      "source": [
        "### Q1 :- Print the given strings as per stated format.\n",
        "\n",
        "**Given strings**: \n",
        "```\n",
        "\"Data\" \"Science\" \"Mentorship\" \"Program\" \n",
        "\"By\" \"CampusX\"\n",
        "```\n",
        "**Output**: \n",
        "``` \n",
        "Data-Science-Mentorship-Program-started-By-CampusX\n",
        "```\n",
        "\n",
        "Concept- [Seperator and End]"
      ],
      "metadata": {
        "id": "2doIXf8bqe9_"
      }
    },
    {
      "cell_type": "code",
      "source": [
        "# Write your code here\n",
        "print(\"Data-Science-Mentorship-Program-By-CampusX\")"
      ],
      "metadata": {
        "id": "-em6d3KErDtp",
        "outputId": "0e47a799-b4f5-43e9-cce8-c62550925666",
        "colab": {
          "base_uri": "https://localhost:8080/"
        }
      },
      "execution_count": 1,
      "outputs": [
        {
          "output_type": "stream",
          "name": "stdout",
          "text": [
            "Data-Science-Mentorship-Program-By-CampusX\n"
          ]
        }
      ]
    },
    {
      "cell_type": "markdown",
      "source": [
        "### Q2:- Write a program that will convert celsius value to fahrenheit."
      ],
      "metadata": {
        "id": "1KUpN7ZTrC3_"
      }
    },
    {
      "cell_type": "code",
      "source": [
        "# Write your code here\n",
        "celcius = int(input(\"Please enter celcius:\"))\n",
        "fahrenheit = celcius*1.8 + 32  \n",
        "print(celcius,\"celcius = \",fahrenheit,\"fahrenheit\")"
      ],
      "metadata": {
        "id": "yxKYhYQiqWfj",
        "outputId": "df01a32e-1eea-4e78-8124-08c19d287f45",
        "colab": {
          "base_uri": "https://localhost:8080/"
        }
      },
      "execution_count": 4,
      "outputs": [
        {
          "output_type": "stream",
          "name": "stdout",
          "text": [
            "Please enter celcius:89\n",
            "89 celcius =  192.20000000000002 fahrenheit\n"
          ]
        }
      ]
    },
    {
      "cell_type": "markdown",
      "source": [
        "### Q3:- Take 2 numbers as input from the user.Write a program to swap the numbers without using any special python syntax."
      ],
      "metadata": {
        "id": "RLrOBBJurLB2"
      }
    },
    {
      "cell_type": "markdown",
      "source": [],
      "metadata": {
        "id": "_9I6TSH28Nuq"
      }
    },
    {
      "cell_type": "code",
      "source": [
        "# Write your code here\n",
        "num1 = int(input(\"write a number1:\"))\n",
        "num2 = int(input(\"write a number2:\"))\n",
        "num3 = num1\n",
        "num1 = num2\n",
        "num2 = num3\n",
        "\n",
        "print(\"numbers swapped:\",num1,num2)"
      ],
      "metadata": {
        "id": "yPn7if0TrJ4F",
        "outputId": "3b0c8976-3613-42ee-8017-fc32af84594c",
        "colab": {
          "base_uri": "https://localhost:8080/"
        }
      },
      "execution_count": 10,
      "outputs": [
        {
          "output_type": "stream",
          "name": "stdout",
          "text": [
            "write a number1:1\n",
            "write a number2:2\n",
            "numbers swapped: 2 1\n"
          ]
        }
      ]
    },
    {
      "cell_type": "markdown",
      "source": [
        "### Q4:- Write a program to find the euclidean distance between two coordinates.Take both the coordinates from the user as input."
      ],
      "metadata": {
        "id": "waLCP1bjr7ML"
      }
    },
    {
      "cell_type": "code",
      "source": [
        "# Write your code here\n",
        "import math\n",
        "x1 = int(input(\"take coordinate 1:\"))\n",
        "x2 = int(input(\"take coordinate 2:\"))\n",
        "y1 = int(input(\"take coordinate 1:\"))\n",
        "y2 = int(input(\"take coordinate 2:\"))\n",
        "print(\"euclidean distance:\",math.sqrt((x2-x1)**2 + (y2-y1)**2))"
      ],
      "metadata": {
        "id": "Pl1Sv-xnrxnH",
        "outputId": "49913d89-7948-4cc0-f18e-ada7d7dcaf0c",
        "colab": {
          "base_uri": "https://localhost:8080/"
        }
      },
      "execution_count": 11,
      "outputs": [
        {
          "output_type": "stream",
          "name": "stdout",
          "text": [
            "take coordinate 1:1\n",
            "take coordinate 2:2\n",
            "take coordinate 1:1\n",
            "take coordinate 2:2\n",
            "euclidean distance: 1.4142135623730951\n"
          ]
        }
      ]
    },
    {
      "cell_type": "markdown",
      "source": [
        "### Q5:- Write a program to find the simple interest when the value of principle,rate of interest and time period is provided by the user.\n"
      ],
      "metadata": {
        "id": "VLrhg-FRsHjR"
      }
    },
    {
      "cell_type": "code",
      "source": [
        "# Write your code here\n",
        "principal = int(input(\"The value of principal amount:\"))\n",
        "interest = int(input(\"The rate of interest:\"))\n",
        "time = int(input(\"The time period:\"))\n",
        "print(\"simple interst is =\",(principal*interest*time)/100)"
      ],
      "metadata": {
        "id": "s40DlReZsTmY",
        "outputId": "6bbc4ed5-7b57-4823-89c1-a3a15c214cda",
        "colab": {
          "base_uri": "https://localhost:8080/"
        }
      },
      "execution_count": 12,
      "outputs": [
        {
          "output_type": "stream",
          "name": "stdout",
          "text": [
            "The value of principal amount:6000\n",
            "The rate of interest:6\n",
            "The time period:4\n",
            "simple interst is = 1440.0\n"
          ]
        }
      ]
    },
    {
      "cell_type": "markdown",
      "source": [
        "### Q6:- Write a program that will tell the number of dogs and chicken are there when the user will provide the value of total heads and legs.\n",
        "\n",
        "For example:\n",
        "Input:\n",
        "heads -> 4\n",
        "legs -> 12\n",
        "<br>\n",
        "Output:\n",
        "dogs -> 2\n",
        "chicken -> 2\n",
        "\n",
        "\n",
        "\n"
      ],
      "metadata": {
        "id": "LMy0BTUktYKa"
      }
    },
    {
      "cell_type": "code",
      "source": [
        "# Write your code here\n",
        "#not solved\n",
        "heads = int(input(\"total heads are:\"))\n",
        "legs = int(input(\"total legs are:\"))\n",
        "print(\"number of dogs:\",legs//6,\"number of chicken:\",legs//6)\n"
      ],
      "metadata": {
        "id": "XSBvJoA4tXaG",
        "outputId": "0bf12a42-3295-447b-eccd-ff4eb43afa14",
        "colab": {
          "base_uri": "https://localhost:8080/"
        }
      },
      "execution_count": 13,
      "outputs": [
        {
          "output_type": "stream",
          "name": "stdout",
          "text": [
            "total heads are:6\n",
            "total legs are:20\n",
            "number of dogs: 3 number of chicken: 3\n"
          ]
        }
      ]
    },
    {
      "cell_type": "markdown",
      "source": [
        "### Q7:- Write a program to find the sum of squares of first n natural numbers where n will be provided by the user."
      ],
      "metadata": {
        "id": "gJ7C5kZYt4BP"
      }
    },
    {
      "cell_type": "code",
      "source": [
        "# Write your code here\n",
        "n = int(input(\"first n natural numbers:\"))\n",
        "print(\"sum of squares:\",((n*(n+1)*(2*n +1))//6))"
      ],
      "metadata": {
        "id": "_tHsmEHzt2nX",
        "outputId": "e9e9bced-42b7-4a76-d08c-d1245cc0e67e",
        "colab": {
          "base_uri": "https://localhost:8080/"
        }
      },
      "execution_count": 16,
      "outputs": [
        {
          "output_type": "stream",
          "name": "stdout",
          "text": [
            "first n natural numbers:3\n",
            "sum of squares: 14\n"
          ]
        }
      ]
    },
    {
      "cell_type": "markdown",
      "source": [
        "### Q8:- Given the first 2 terms of an Arithmetic Series.Find the Nth term of the series. Assume all inputs are provided by the user."
      ],
      "metadata": {
        "id": "FHrMM7g-yG1h"
      }
    },
    {
      "cell_type": "code",
      "source": [
        "# Write your code here\n",
        "t1 = int(input(\"first term: \"))\n",
        "t2 = int(input(\"Second term: \"))\n",
        "t3 = int(input(\"To find the term: \"))\n",
        "print(\"value of nth term:\",t1+((t3-1)*(t2-t1)))"
      ],
      "metadata": {
        "id": "go4_kmZmyVSx",
        "outputId": "b751b951-54d4-443c-eb17-73e37b9467d2",
        "colab": {
          "base_uri": "https://localhost:8080/"
        }
      },
      "execution_count": 19,
      "outputs": [
        {
          "output_type": "stream",
          "name": "stdout",
          "text": [
            "first term: 4\n",
            "Second term: 6\n",
            "To find the term: 3\n",
            "value of nth term: 8\n"
          ]
        }
      ]
    },
    {
      "cell_type": "markdown",
      "source": [
        "### Q9:- Given 2 fractions, find the sum of those 2 fractions.Take the numerator and denominator values of the fractions from the user."
      ],
      "metadata": {
        "id": "QgyRX_es1oum"
      }
    },
    {
      "cell_type": "code",
      "source": [
        "# Write your code here\n",
        "nu1 = int(input(\"numerator1:\"))\n",
        "de1 = int(input(\"denominator1:\"))\n",
        "nu2 = int(input(\"numerator2:\"))\n",
        "de2 = int(input(\"denominator2:\"))\n",
        "sum = (nu1/de1)+(nu2/de2)\n",
        "print(\"sum of fraction is:\",sum)"
      ],
      "metadata": {
        "id": "X05xqFS1yW16",
        "outputId": "6c8aa922-d718-45b9-cc09-d83a44ef2f02",
        "colab": {
          "base_uri": "https://localhost:8080/"
        }
      },
      "execution_count": 20,
      "outputs": [
        {
          "output_type": "stream",
          "name": "stdout",
          "text": [
            "numerator1:3\n",
            "denominator1:3\n",
            "numerator2:4\n",
            "denominator2:4\n",
            "sum of fraction is: 2.0\n"
          ]
        }
      ]
    },
    {
      "cell_type": "markdown",
      "source": [
        "### Q10:- Given the height, width and breadth of a milk tank, you have to find out how many glasses of milk can be obtained? Assume all the inputs are provided by the user.\n",
        "\n",
        "\n",
        "\n",
        "Input:<br>\n",
        "Dimensions of the milk tank<br>\n",
        "H = 20cm, L = 20cm, B = 20cm\n",
        "<br><br>\n",
        "Dimensions of the glass<br>\n",
        "h = 3cm, r = 1cm"
      ],
      "metadata": {
        "id": "eaql38ln13u7"
      }
    },
    {
      "cell_type": "code",
      "source": [
        "# Write your code here\n",
        "height = int(input(\"height of the tank:\"))\n",
        "width = int(input(\"width of the tank:\"))\n",
        "breadth = int(input(\"breadth of the tank:\"))\n",
        "height_glass = int(input(\"height of the glass:\"))\n",
        "radius_glass = int(input(\"radius of the glass:\"))\n",
        "vol_glass = 3.14*(radius_glass)**2*height_glass\n",
        "vol_tank = height*width*breadth\n",
        "print(\"glasses of milk obtained:\",vol_tank//vol_glass)"
      ],
      "metadata": {
        "id": "FePZqno74eWv",
        "outputId": "3031febf-9a4e-4bf7-86eb-d7de150878aa",
        "colab": {
          "base_uri": "https://localhost:8080/"
        }
      },
      "execution_count": 21,
      "outputs": [
        {
          "output_type": "stream",
          "name": "stdout",
          "text": [
            "height of the tank:12\n",
            "width of the tank:10\n",
            "breadth of the tank:7\n",
            "height of the glass:2\n",
            "radius of the glass:2\n",
            "glasses of milk obtained: 33.0\n"
          ]
        }
      ]
    }
  ]
}